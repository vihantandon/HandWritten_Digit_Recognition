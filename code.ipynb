{
 "cells": [
  {
   "cell_type": "code",
   "execution_count": 35,
   "id": "1f5618c8",
   "metadata": {},
   "outputs": [],
   "source": [
    "import numpy as np\n",
    "import matplotlib.pyplot as plt\n",
    "from PIL import Image,ImageDraw\n",
    "import tensorflow as tf\n",
    "from tensorflow.keras import Sequential\n",
    "from tensorflow.keras.layers import Conv2D,Flatten\n",
    "from tensorflow.keras.losses import SparseCategoricalCrossentropy\n",
    "from tensorflow.keras.datasets import mnist"
   ]
  },
  {
   "cell_type": "code",
   "execution_count": 16,
   "id": "2357ee8a",
   "metadata": {},
   "outputs": [],
   "source": [
    "(train_data,train_labels),(test_data,test_labels) = mnist.load_data()\n",
    "train_data = train_data.reshape(60000,28,28,1)/255.0\n",
    "test_data = test_data.reshape(10000,28,28,1)/255.0\n",
    "#(batch,height,width,channels) channels = 1 for gray scale \n",
    "# 3 for RGB 4 for RGBA\n",
    "# it is divided by 255.0 for pixel normalization so the value ranges between \n",
    "#0(black) and 1(white)"
   ]
  },
  {
   "cell_type": "code",
   "execution_count": 31,
   "id": "5b3e1f72",
   "metadata": {},
   "outputs": [
    {
     "name": "stderr",
     "output_type": "stream",
     "text": [
      "/home/vihan-tandon/.local/lib/python3.12/site-packages/keras/src/layers/convolutional/base_conv.py:113: UserWarning: Do not pass an `input_shape`/`input_dim` argument to a layer. When using Sequential models, prefer using an `Input(shape)` object as the first layer in the model instead.\n",
      "  super().__init__(activity_regularizer=activity_regularizer, **kwargs)\n"
     ]
    }
   ],
   "source": [
    "model = Sequential([\n",
    "    Conv2D(32,(3,3),strides=2,activation='relu',input_shape=(28,28,1)),\n",
    "    Conv2D(64,(3,3),strides=2,activation='relu'),\n",
    "    Conv2D(128,(3,3),strides=2,activation='relu'),\n",
    "    Conv2D(10,(2,2),activation='linear'),\n",
    "    Flatten()\n",
    "])\n",
    "#The (3,3) refers to the kernel size (also called filter size) - it's the dimensions of the small window that slides over your image. A 3×3 \n",
    "# kernel looks at a 3×3 patch of pixels at once to detect features like edges, curves, or patterns.\n",
    "#Strides control how many pixels the filter jumps when moving across the image. A stride of 2 means the filter moves 2 pixels at a time, effectively downsampling the image and reducing its spatial dimensions."
   ]
  },
  {
   "cell_type": "code",
   "execution_count": 32,
   "id": "6c557e72",
   "metadata": {},
   "outputs": [],
   "source": [
    "model.compile(\n",
    "    optimizer='adam',\n",
    "    loss=SparseCategoricalCrossentropy(from_logits=True),\n",
    "    metrics=['accuracy']\n",
    ")"
   ]
  },
  {
   "cell_type": "code",
   "execution_count": 33,
   "id": "edcdabee",
   "metadata": {},
   "outputs": [
    {
     "name": "stdout",
     "output_type": "stream",
     "text": [
      "Epoch 1/5\n",
      "\u001b[1m1875/1875\u001b[0m \u001b[32m━━━━━━━━━━━━━━━━━━━━\u001b[0m\u001b[37m\u001b[0m \u001b[1m7s\u001b[0m 3ms/step - accuracy: 0.9453 - loss: 0.1858 - val_accuracy: 0.9777 - val_loss: 0.0708\n",
      "Epoch 2/5\n",
      "\u001b[1m1875/1875\u001b[0m \u001b[32m━━━━━━━━━━━━━━━━━━━━\u001b[0m\u001b[37m\u001b[0m \u001b[1m6s\u001b[0m 3ms/step - accuracy: 0.9804 - loss: 0.0620 - val_accuracy: 0.9826 - val_loss: 0.0542\n",
      "Epoch 3/5\n",
      "\u001b[1m1875/1875\u001b[0m \u001b[32m━━━━━━━━━━━━━━━━━━━━\u001b[0m\u001b[37m\u001b[0m \u001b[1m6s\u001b[0m 3ms/step - accuracy: 0.9870 - loss: 0.0414 - val_accuracy: 0.9881 - val_loss: 0.0422\n",
      "Epoch 4/5\n",
      "\u001b[1m1875/1875\u001b[0m \u001b[32m━━━━━━━━━━━━━━━━━━━━\u001b[0m\u001b[37m\u001b[0m \u001b[1m6s\u001b[0m 3ms/step - accuracy: 0.9900 - loss: 0.0316 - val_accuracy: 0.9859 - val_loss: 0.0479\n",
      "Epoch 5/5\n",
      "\u001b[1m1875/1875\u001b[0m \u001b[32m━━━━━━━━━━━━━━━━━━━━\u001b[0m\u001b[37m\u001b[0m \u001b[1m7s\u001b[0m 4ms/step - accuracy: 0.9921 - loss: 0.0242 - val_accuracy: 0.9867 - val_loss: 0.0411\n"
     ]
    },
    {
     "data": {
      "text/plain": [
       "<keras.src.callbacks.history.History at 0x72ca1a244440>"
      ]
     },
     "execution_count": 33,
     "metadata": {},
     "output_type": "execute_result"
    }
   ],
   "source": [
    "model.fit(train_data,train_labels,epochs=5,validation_data=(test_data,test_labels))"
   ]
  },
  {
   "cell_type": "code",
   "execution_count": 43,
   "id": "a3574b93",
   "metadata": {},
   "outputs": [
    {
     "data": {
      "image/png": "[encoded data removed]",
      "text/plain": [
       "<Figure size 640x480 with 1 Axes>"
      ]
     },
     "metadata": {},
     "output_type": "display_data"
    },
    {
     "name": "stdout",
     "output_type": "stream",
     "text": [
      "\u001b[1m1/1\u001b[0m \u001b[32m━━━━━━━━━━━━━━━━━━━━\u001b[0m\u001b[37m\u001b[0m \u001b[1m0s\u001b[0m 31ms/step\n",
      "Model predicted: 9\n",
      "Actual digit: 9\n",
      "Prediction confidence: 802.34%\n"
     ]
    }
   ],
   "source": [
    "image_index = 1000\n",
    "test_image = test_data[image_index]\n",
    "test_label = test_labels[image_index]\n",
    "\n",
    "plt.imshow(test_image.reshape(28,28),cmap='gray')\n",
    "plt.title(f'Actual Digit: {test_label}')\n",
    "plt.show()\n",
    "\n",
    "prediction = model.predict(test_image.reshape(1,28,28,1))\n",
    "predict_digit = np.argmax(prediction)\n",
    "\n",
    "print(f'Model predicted: {predict_digit}')\n",
    "print(f'Actual digit: {test_label}')\n",
    "print(f'Prediction confidence: {prediction[0][predict_digit]:.2%}')"
   ]
  },
  {
   "cell_type": "code",
   "execution_count": null,
   "id": "cff5e2f8",
   "metadata": {},
   "outputs": [],
   "source": []
  }
 ],
 "metadata": {
  "kernelspec": {
   "display_name": "Python 3",
   "language": "python",
   "name": "python3"
  },
  "language_info": {
   "codemirror_mode": {
    "name": "ipython",
    "version": 3
   },
   "file_extension": ".py",
   "mimetype": "text/x-python",
   "name": "python",
   "nbconvert_exporter": "python",
   "pygments_lexer": "ipython3",
   "version": "3.12.3"
  }
 },
 "nbformat": 4,
 "nbformat_minor": 5
}
